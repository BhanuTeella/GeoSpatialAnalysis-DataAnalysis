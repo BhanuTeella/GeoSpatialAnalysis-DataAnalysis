{
  "cells": [
    {
      "cell_type": "markdown",
      "source": [
        "The program is used to calculate distances travelled by users for various activities. The program uses multiprocessing to handle large datasets.\n",
        "\n",
        "\n",
        "The dataset is assumed to have columns latitude, longitude, altitude,time-stamp trajectory_id and individual_id where each row corresponds to a location point in a particular trajectory for an individual. Trajectories correspond to outdoor movements, including daily routines such as commuting and non-routine activities like leisure and sports."
      ],
      "metadata": {
        "id": "LA9SM7B9d7Sd"
      }
    },
    {
      "cell_type": "code",
      "execution_count": null,
      "metadata": {
        "id": "PwgrIViNajdh"
      },
      "outputs": [],
      "source": [
        "import pandas as pd\n",
        "import numpy as np\n",
        "from math import radians, sin, cos, sqrt, atan2\n",
        "from multiprocessing import Pool\n",
        "import time\n",
        "\n"
      ]
    },
    {
      "cell_type": "markdown",
      "source": [
        "calculate_trajectory_distance(trajectory) is used to calculate total distance travelled in each trejectory. The function (in this case a dataframe of trejectory_id) takes a dataframe as parameter and create lat1, lat2, lng1 and lng2 numpy arrays. lat1 and lng2 are the orginal points and lat2 and lng2 points are immediate next points. haversine formula is uded to calculate distance each pair of points and then sumed to get total distance in 0ne trejectory"
      ],
      "metadata": {
        "id": "yYimnD2qkbSi"
      }
    },
    {
      "cell_type": "code",
      "source": [
        "def calculate_trajectory_distance(trajectory):\n",
        "    #get lat1 and lat2\n",
        "    lat1 = trajectory['latitude'].iloc[:-1]\n",
        "    lat2 = trajectory['latitude'].shift(-1).iloc[:-1]\n",
        "    #shift the points by one to get second pair of points\n",
        "    lng1 = trajectory['longitude'].iloc[:-1]\n",
        "    lng2 = trajectory['longitude'].shift(-1).iloc[:-1]\n",
        "    \n",
        "    #haversine formula\n",
        "    dlat = lat2 - lat1\n",
        "    dlng = lng2 - lng1\n",
        "    \n",
        "    a = np.sin(dlat/2)**2 + np.cos(lat1) * np.cos(lat2) * np.sin(dlng/2)**2\n",
        "    c = 2 * np.arctan2(np.sqrt(a), np.sqrt(1-a))\n",
        "    distance = 6371 * c\n",
        "    \n",
        "    return distance.sum()"
      ],
      "metadata": {
        "id": "54O4DMmqNGSt"
      },
      "execution_count": null,
      "outputs": []
    },
    {
      "cell_type": "markdown",
      "source": [
        "calculate_total_distances() function loads data fromcombined_trajectories.csv into a dataframe. converts latituted and longitudes into radians. It Uses Multiproccessing to call calculate_trajectory_distance on each group of 'individual_id', 'trajectory_id'. it stores trejectory distances and uses it to calculate total distance for every individual.\n",
        "\n"
      ],
      "metadata": {
        "id": "9yN2zq9onaz2"
      }
    },
    {
      "cell_type": "code",
      "source": [
        "def calculate_total_distances():\n",
        "    df = pd.read_csv(\"Dataset.csv\")\n",
        "    \n",
        "    df['latitude'] = np.radians(df['latitude']) #convert toradians\n",
        "    df['longitude'] = np.radians(df['longitude'])\n",
        "\n",
        "    grouped = df.groupby(['individual_id', 'trajectory_id'])\n",
        "    \n",
        "    #multiprocess by calling calculate_trajectory_distance on each group simultaneosly\n",
        "    pool = Pool() \n",
        "    trejectory_distances = pool.map(calculate_trajectory_distance, [grouped.get_group(x) for x in grouped.groups])\n",
        "    pool.close()\n",
        "    pool.join()\n",
        "    \n",
        "    #create dataframe with all trajectory distances\n",
        "    individual_ids = [key[0] for key in grouped.groups.keys()]\n",
        "    trajectory_ids = [key[1] for key in grouped.groups.keys()]\n",
        "    trejectory_distance_df = pd.DataFrame({'individual_id': individual_ids, ' trajectory_id': trajectory_ids, 'total_distance': trejectory_distances})\n",
        "    \n",
        "    # Create a new dataframe with the total distance for each individual_id\n",
        "    total_distances_df = trejectory_distance_df.groupby(['individual_id'])['total_distance'].sum().reset_index()\n",
        "    return total_distances_df"
      ],
      "metadata": {
        "id": "tYqnGNY3NS93"
      },
      "execution_count": null,
      "outputs": []
    },
    {
      "cell_type": "code",
      "source": [
        "start_time = time.time()\n",
        "total_distance=calculate_total_distances()\n",
        "end_time = time.time()\n",
        "print(total_distance)\n",
        "print(f\"Total runtime for the function: {end_time - start_time:.3f} seconds.\")"
      ],
      "metadata": {
        "id": "uO8NOH3vcThT"
      },
      "execution_count": null,
      "outputs": []
    }
  ],
  "metadata": {
    "colab": {
      "provenance": []
    },
    "kernelspec": {
      "display_name": "Python 3",
      "name": "python3"
    },
    "language_info": {
      "name": "python"
    }
  },
  "nbformat": 4,
  "nbformat_minor": 0
}